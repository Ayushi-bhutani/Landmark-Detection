{
 "cells": [
  {
   "cell_type": "code",
   "execution_count": null,
   "id": "775bbe0a-becf-4526-91fe-fde51243ad55",
   "metadata": {},
   "outputs": [],
   "source": [
    "import numpy as np\n",
    "import pandas as pd\n",
    "\n",
    "import cv2  \n",
    "from matplotlib import pyplot as plt\n",
    "import os\n",
    "import random \n",
    "from PIL import Image"
   ]
  },
  {
   "cell_type": "code",
   "execution_count": null,
   "id": "ec31aac0-34b0-409e-8a4a-46fb41e65837",
   "metadata": {},
   "outputs": [],
   "source": [
    "df = pd.read_csv('train.csv')"
   ]
  },
  {
   "cell_type": "code",
   "execution_count": null,
   "id": "7191313e-0967-43d7-bee1-65d0b926e568",
   "metadata": {},
   "outputs": [],
   "source": [
    "df"
   ]
  },
  {
   "cell_type": "code",
   "execution_count": null,
   "id": "e1443b25-727e-4c18-930b-3d8254627839",
   "metadata": {},
   "outputs": [],
   "source": [
    "samples = 20000\n",
    "df = df.loc[df[\"id\"].str.startswith('00',na=False),:]\n",
    "num_classes = len(df[\"landmark_id\"].unique())\n",
    "num_data = len(df)"
   ]
  },
  {
   "cell_type": "code",
   "execution_count": null,
   "id": "48ec061f-5e2e-40fc-93fe-d9a62f3d5240",
   "metadata": {},
   "outputs": [],
   "source": [
    "num_classes, num_data"
   ]
  },
  {
   "cell_type": "code",
   "execution_count": null,
   "id": "d1d1a909-52a1-4280-a377-da1a095243cf",
   "metadata": {},
   "outputs": [],
   "source": [
    "data = pd.DataFrame(df[\"landmark_id\"].value_counts())\n",
    "data.reset_index(inplace=True)"
   ]
  },
  {
   "cell_type": "code",
   "execution_count": null,
   "id": "071ebc3c-5d3b-4167-87a5-78cbc1e07544",
   "metadata": {},
   "outputs": [],
   "source": [
    "data.head()\n"
   ]
  },
  {
   "cell_type": "code",
   "execution_count": null,
   "id": "72243400-8b22-437b-a051-ff0344f75041",
   "metadata": {},
   "outputs": [],
   "source": [
    "data.tail()"
   ]
  },
  {
   "cell_type": "code",
   "execution_count": null,
   "id": "35ffdc62-0f3b-4f22-a02f-96a5a4b2f38d",
   "metadata": {},
   "outputs": [],
   "source": [
    "data.columns = [\"index\", \"landmark_id\"]"
   ]
  },
  {
   "cell_type": "code",
   "execution_count": null,
   "id": "c12c0a44-c771-4928-bcfa-7a8fb9c6db37",
   "metadata": {},
   "outputs": [],
   "source": [
    "import pandas as pd\n",
    "data = pd.DataFrame(df[\"landmark_id\"].value_counts())\n",
    "data = data.reset_index(inplace=True)\n",
    "data[\"landmark_id\"].describe()"
   ]
  },
  {
   "cell_type": "code",
   "execution_count": null,
   "id": "c572b284-4e00-4822-b7ec-3ff721862aea",
   "metadata": {},
   "outputs": [],
   "source": [
    "plt.hist(data[\"landmark_id\"], 100, range = (0,58), label = \"test\")"
   ]
  },
  {
   "cell_type": "code",
   "execution_count": null,
   "id": "613443da-a70c-4213-819b-b662edc786c5",
   "metadata": {},
   "outputs": [],
   "source": [
    "data = data[\"landmark_id\"].between(0,5).sum()"
   ]
  },
  {
   "cell_type": "code",
   "execution_count": null,
   "id": "ecf7d1c2-5367-4c4e-940d-c40eee221661",
   "metadata": {},
   "outputs": [],
   "source": [
    "from sklearn import LabelEncoder\n",
    "lencoder = LabelEncoder()\n",
    "lencoder.fit(df[\"landmark_id\"])\n",
    "df.head()"
   ]
  },
  {
   "cell_type": "code",
   "execution_count": null,
   "id": "3d4ef934-47d8-4577-b2a8-e094461fa1d5",
   "metadata": {},
   "outputs": [],
   "source": []
  }
 ],
 "metadata": {
  "kernelspec": {
   "display_name": "Python 3 (ipykernel)",
   "language": "python",
   "name": "python3"
  },
  "language_info": {
   "codemirror_mode": {
    "name": "ipython",
    "version": 3
   },
   "file_extension": ".py",
   "mimetype": "text/x-python",
   "name": "python",
   "nbconvert_exporter": "python",
   "pygments_lexer": "ipython3",
   "version": "3.11.4"
  }
 },
 "nbformat": 4,
 "nbformat_minor": 5
}
